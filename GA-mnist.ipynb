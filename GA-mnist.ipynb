{
 "cells": [
  {
   "cell_type": "code",
   "execution_count": 1,
   "metadata": {},
   "outputs": [],
   "source": [
    "%load_ext autoreload"
   ]
  },
  {
   "cell_type": "code",
   "execution_count": 2,
   "metadata": {},
   "outputs": [],
   "source": [
    "%autoreload 2"
   ]
  },
  {
   "cell_type": "markdown",
   "metadata": {},
   "source": [
    "# Genetic algorithm for hyperparameter optimization on the keras cats_and_dogs dataset.\n",
    "Credits: https://github.com/guibacellar/OpenAi/blob/master/CartPole-GA.py"
   ]
  },
  {
   "cell_type": "code",
   "execution_count": 3,
   "metadata": {
    "slideshow": {
     "slide_type": "slide"
    }
   },
   "outputs": [],
   "source": [
    "import os\n",
    "import random\n",
    "import pandas as pd\n",
    "import numpy as np\n",
    "import tensorflow as tf\n",
    "import time\n",
    "from keras.models import Sequential\n",
    "from keras.datasets import mnist\n",
    "from keras.layers import Dense, Dropout, InputLayer\n",
    "from keras import backend as K\n",
    "from keras.utils import to_categorical\n",
    "from matplotlib import pyplot\n",
    "\n",
    "# pyplot.style.use(['dark_background'])"
   ]
  },
  {
   "cell_type": "code",
   "execution_count": 4,
   "metadata": {},
   "outputs": [],
   "source": [
    "# local imports\n",
    "from gahyperopt import *"
   ]
  },
  {
   "cell_type": "code",
   "execution_count": 5,
   "metadata": {
    "slideshow": {
     "slide_type": "slide"
    }
   },
   "outputs": [],
   "source": [
    "# Define Hyperparameters for NN\n",
    "HIDDEN_LAYER_COUNT = [1, 2, 3, 4, 5, 6, 7, 8, 9, 10]\n",
    "HIDDEN_LAYER_NEURONS = [8, 16, 24, 32, 64, 128, 256, 512]\n",
    "HIDDEN_LAYER_RATE = [0.1, 0.2, 0.3, 0.4, 0.5, 0.6, 0.7, 0.8, 0.9]\n",
    "HIDDEN_LAYER_ACTIVATIONS = ['relu']\n",
    "HIDDEN_LAYER_TYPE = ['dense', 'dropout']\n",
    "MODEL_OPTIMIZER = ['rmsprop']\n",
    "\n",
    "# Define Genetic Algorithm Parameters\n",
    "MAX_GENERATIONS = 100  # Max Number of Generations to Apply the Genetic Algorithm\n",
    "POPULATION_SIZE = 5  # Max Number of Individuals in Each Population\n",
    "BEST_CANDIDATES_COUNT = 2  # Number of Best Candidates to Use\n",
    "RANDOM_CANDIDATES_COUNT = 1  # Number of Random Candidates (From Entire Population of Generation) to Next Population\n",
    "OPTIMIZER_MUTATION_PROBABILITY = 0.1  # 10% of Probability to Apply Mutation on Optimizer Parameter\n",
    "HIDDEN_LAYER_MUTATION_PROBABILITY = 0.1  # 10% of Probability to Apply Mutation on Hidden Layer Quantity"
   ]
  },
  {
   "cell_type": "code",
   "execution_count": 6,
   "metadata": {
    "slideshow": {
     "slide_type": "slide"
    }
   },
   "outputs": [],
   "source": [
    "ga = GADriver(layer_counts=HIDDEN_LAYER_COUNT,\n",
    "                     no_neurons=HIDDEN_LAYER_NEURONS,\n",
    "                     rates=HIDDEN_LAYER_RATE,\n",
    "                     activations=HIDDEN_LAYER_ACTIVATIONS,\n",
    "                     layer_types=HIDDEN_LAYER_TYPE,\n",
    "                     optimizers=MODEL_OPTIMIZER,\n",
    "                     population_size=POPULATION_SIZE,\n",
    "                     best_candidates_count=BEST_CANDIDATES_COUNT,\n",
    "                     random_candidates_count=RANDOM_CANDIDATES_COUNT,\n",
    "                     optimizer_mutation_probability=OPTIMIZER_MUTATION_PROBABILITY,\n",
    "                     layer_mutation_probability=HIDDEN_LAYER_MUTATION_PROBABILITY,\n",
    "                    )"
   ]
  },
  {
   "cell_type": "code",
   "execution_count": 7,
   "metadata": {
    "slideshow": {
     "slide_type": "slide"
    }
   },
   "outputs": [],
   "source": [
    "# Get test and training data.\n",
    "data = load_mnist()"
   ]
  },
  {
   "cell_type": "code",
   "execution_count": 8,
   "metadata": {
    "slideshow": {
     "slide_type": "subslide"
    }
   },
   "outputs": [
    {
     "name": "stdout",
     "output_type": "stream",
     "text": [
      "[+] Training Original NN Model: Epoch 1/20\n",
      "300/300 [==============================] - 2s 6ms/step - loss: 0.3148 - accuracy: 0.9090 - val_loss: 0.1872 - val_accuracy: 0.9440\n",
      "Epoch 2/20\n",
      "300/300 [==============================] - 2s 5ms/step - loss: 0.1376 - accuracy: 0.9582 - val_loss: 0.1279 - val_accuracy: 0.9630\n",
      "Epoch 3/20\n",
      "300/300 [==============================] - 2s 5ms/step - loss: 0.0874 - accuracy: 0.9740 - val_loss: 0.1109 - val_accuracy: 0.9667\n",
      "Epoch 4/20\n",
      "300/300 [==============================] - 2s 5ms/step - loss: 0.0614 - accuracy: 0.9811 - val_loss: 0.1058 - val_accuracy: 0.9690\n",
      "Epoch 5/20\n",
      "300/300 [==============================] - 2s 5ms/step - loss: 0.0482 - accuracy: 0.9860 - val_loss: 0.0956 - val_accuracy: 0.9720\n",
      "Epoch 6/20\n",
      "300/300 [==============================] - 2s 5ms/step - loss: 0.0357 - accuracy: 0.9897 - val_loss: 0.0991 - val_accuracy: 0.9728\n",
      "Epoch 7/20\n",
      "300/300 [==============================] - 2s 5ms/step - loss: 0.0258 - accuracy: 0.9929 - val_loss: 0.0908 - val_accuracy: 0.9748\n",
      "Epoch 8/20\n",
      "300/300 [==============================] - 2s 5ms/step - loss: 0.0192 - accuracy: 0.9947 - val_loss: 0.1008 - val_accuracy: 0.9742\n",
      "Epoch 9/20\n",
      "300/300 [==============================] - 2s 6ms/step - loss: 0.0156 - accuracy: 0.9960 - val_loss: 0.0970 - val_accuracy: 0.9748\n",
      "Epoch 10/20\n",
      "300/300 [==============================] - 2s 5ms/step - loss: 0.0129 - accuracy: 0.9967 - val_loss: 0.1051 - val_accuracy: 0.9748\n",
      "Epoch 11/20\n",
      "300/300 [==============================] - 2s 5ms/step - loss: 0.0087 - accuracy: 0.9977 - val_loss: 0.1065 - val_accuracy: 0.9761\n",
      "Epoch 12/20\n",
      "300/300 [==============================] - 2s 6ms/step - loss: 0.0070 - accuracy: 0.9983 - val_loss: 0.1101 - val_accuracy: 0.9753\n",
      "Epoch 13/20\n",
      "300/300 [==============================] - 2s 5ms/step - loss: 0.0055 - accuracy: 0.9985 - val_loss: 0.1105 - val_accuracy: 0.9758\n",
      "Epoch 14/20\n",
      "300/300 [==============================] - 2s 5ms/step - loss: 0.0042 - accuracy: 0.9991 - val_loss: 0.1160 - val_accuracy: 0.9754\n",
      "Epoch 15/20\n",
      "300/300 [==============================] - 2s 5ms/step - loss: 0.0035 - accuracy: 0.9992 - val_loss: 0.1154 - val_accuracy: 0.9755\n",
      "Epoch 16/20\n",
      "300/300 [==============================] - 2s 6ms/step - loss: 0.0024 - accuracy: 0.9994 - val_loss: 0.1167 - val_accuracy: 0.9771\n",
      "Epoch 17/20\n",
      "300/300 [==============================] - 2s 6ms/step - loss: 0.0020 - accuracy: 0.9995 - val_loss: 0.1291 - val_accuracy: 0.9754\n",
      "Epoch 18/20\n",
      "300/300 [==============================] - 2s 5ms/step - loss: 0.0013 - accuracy: 0.9998 - val_loss: 0.1300 - val_accuracy: 0.9776\n",
      "Epoch 19/20\n",
      "300/300 [==============================] - 2s 5ms/step - loss: 0.0013 - accuracy: 0.9997 - val_loss: 0.1297 - val_accuracy: 0.9779\n",
      "Epoch 20/20\n",
      "300/300 [==============================] - 2s 5ms/step - loss: 9.8681e-04 - accuracy: 0.9997 - val_loss: 0.1412 - val_accuracy: 0.9759\n",
      "Done > Takes 36.26741647720337 sec\n"
     ]
    }
   ],
   "source": [
    "# Creates a Reference NN Model based on \n",
    "ml_model, training = generate_reference_ml(data)"
   ]
  },
  {
   "cell_type": "code",
   "execution_count": 9,
   "metadata": {
    "slideshow": {
     "slide_type": "slide"
    }
   },
   "outputs": [
    {
     "data": {
      "text/plain": [
       "<matplotlib.legend.Legend at 0x7f2e08095610>"
      ]
     },
     "execution_count": 9,
     "metadata": {},
     "output_type": "execute_result"
    },
    {
     "data": {
      "image/png": "[encoded data removed]",
      "text/plain": [
       "<Figure size 432x288 with 2 Axes>"
      ]
     },
     "metadata": {
      "needs_background": "light"
     },
     "output_type": "display_data"
    }
   ],
   "source": [
    "history = pd.DataFrame(training.history)\n",
    "\n",
    "fig, ax = pyplot.subplots(2,1)\n",
    "history['loss'].plot(ax=ax[0], style=\"o\",label='loss')\n",
    "history['val_loss'].plot(ax=ax[0], style=\"o\",label='val loss')\n",
    "ax[0].legend()\n",
    "history['accuracy'].plot(ax=ax[1], style=\"o\",label='acc')\n",
    "history['val_accuracy'].plot(ax=ax[1], style=\"o\",label='val acc')\n",
    "ax[1].legend()"
   ]
  },
  {
   "cell_type": "code",
   "execution_count": 10,
   "metadata": {
    "slideshow": {
     "slide_type": "subslide"
    }
   },
   "outputs": [
    {
     "name": "stdout",
     "output_type": "stream",
     "text": [
      "625/625 [==============================] - 2s 2ms/step - loss: 0.1412 - accuracy: 0.9759\n",
      "\tAccuracy:0.9758999943733215 | Loss:0.14124155044555664 |\n"
     ]
    }
   ],
   "source": [
    "# Play Games with Reference NN Model\n",
    "print(\"[+] Evaluate reference model \\t>\", end='', flush=True)\n",
    "loss, accuracy  = evaluate_model(ml_model=ml_model, x = data['x_val'], y=data['y_val'])\n",
    "print(f\"\\tAccuracy:{accuracy} | Loss:{loss} |\")"
   ]
  },
  {
   "cell_type": "code",
   "execution_count": 11,
   "metadata": {
    "slideshow": {
     "slide_type": "subslide"
    }
   },
   "outputs": [
    {
     "name": "stdout",
     "output_type": "stream",
     "text": [
      "\n",
      "********** Genetic Algorithm **********\n",
      "[+] Creating Initial NN Model Population Randomly: Done > Takes 0.0002484321594238281 sec\n"
     ]
    }
   ],
   "source": [
    "# >>>>>> Genetic Algorithm Section <<<<<<\n",
    "print(\"\\n********** Genetic Algorithm **********\")\n",
    "population = ga.generate_first_population_randomly()"
   ]
  },
  {
   "cell_type": "code",
   "execution_count": 12,
   "metadata": {},
   "outputs": [
    {
     "data": {
      "text/plain": [
       "5"
      ]
     },
     "execution_count": 12,
     "metadata": {},
     "output_type": "execute_result"
    }
   ],
   "source": [
    "len(population)"
   ]
  },
  {
   "cell_type": "code",
   "execution_count": 14,
   "metadata": {
    "slideshow": {
     "slide_type": "slide"
    }
   },
   "outputs": [
    {
     "name": "stdout",
     "output_type": "stream",
     "text": [
      "[+] Generation 1 of 100\n",
      "\tTraining Models:\n",
      "\t\tGenerating model for individual 0\n",
      "\t\tGenerating model for individual 1\n",
      "\t\tGenerating model for individual 2\n",
      "\t\tGenerating model for individual 3\n",
      "\t\tGenerating model for individual 4\n",
      "Done > Takes 68.8868579864502 sec\n",
      "\tEvaluating Population: \n",
      "\t\tIndividual 0\n",
      "625/625 [==============================] - 1s 2ms/step - loss: 0.2013 - accuracy: 0.9431\n",
      "\t\tIndividual 1\n",
      "625/625 [==============================] - 2s 3ms/step - loss: 1.0833 - accuracy: 0.6234\n",
      "\t\tIndividual 2\n",
      "625/625 [==============================] - 2s 3ms/step - loss: 1.7675 - accuracy: 0.5201\n",
      "\t\tIndividual 3\n",
      "625/625 [==============================] - 1s 2ms/step - loss: 2.3024 - accuracy: 0.1000\n",
      "\t\tIndividual 4\n",
      "625/625 [==============================] - 1s 2ms/step - loss: 2.3016 - accuracy: 0.1089\n",
      "Done > Takes 7.984793424606323 sec\n",
      "[+] Generation 2 of 100\n",
      "\tTraining Models:\n",
      "\t\tGenerating model for individual 0\n",
      "\t\tGenerating model for individual 1\n",
      "\t\tGenerating model for individual 2\n",
      "\t\tGenerating model for individual 3\n",
      "\t\tGenerating model for individual 4\n",
      "Done > Takes 66.80543684959412 sec\n",
      "\tEvaluating Population: \n",
      "\t\tIndividual 0\n",
      "625/625 [==============================] - 1s 2ms/step - loss: 0.2128 - accuracy: 0.9378\n",
      "\t\tIndividual 1\n",
      "625/625 [==============================] - 2s 3ms/step - loss: 1.0338 - accuracy: 0.6032\n",
      "\t\tIndividual 2\n",
      "625/625 [==============================] - 1s 2ms/step - loss: 2.3026 - accuracy: 0.1089\n",
      "\t\tIndividual 3\n",
      "625/625 [==============================] - 2s 2ms/step - loss: 0.3283 - accuracy: 0.9143\n",
      "\t\tIndividual 4\n",
      "625/625 [==============================] - 1s 2ms/step - loss: 2.2754 - accuracy: 0.1938\n",
      "Done > Takes 8.04120945930481 sec\n",
      "[+] Generation 3 of 100\n",
      "\tTraining Models:\n",
      "\t\tGenerating model for individual 0\n",
      "\t\tGenerating model for individual 1\n",
      "\t\tGenerating model for individual 2\n",
      "\t\tGenerating model for individual 3\n",
      "\t\tGenerating model for individual 4\n",
      "Done > Takes 66.9724645614624 sec\n",
      "\tEvaluating Population: \n",
      "\t\tIndividual 0\n",
      "625/625 [==============================] - 2s 2ms/step - loss: 0.2379 - accuracy: 0.9309\n",
      "\t\tIndividual 1\n",
      "625/625 [==============================] - 2s 3ms/step - loss: 0.2417 - accuracy: 0.9392\n",
      "\t\tIndividual 2\n",
      "625/625 [==============================] - 1s 2ms/step - loss: 0.2379 - accuracy: 0.9309\n",
      "\t\tIndividual 3\n",
      "625/625 [==============================] - 2s 3ms/step - loss: 0.1978 - accuracy: 0.9417\n",
      "\t\tIndividual 4\n",
      "625/625 [==============================] - 2s 2ms/step - loss: 0.4338 - accuracy: 0.8960\n",
      "Done > Takes 8.36791443824768 sec\n",
      "[+] Generation 4 of 100\n",
      "\tTraining Models:\n",
      "\t\tGenerating model for individual 0\n",
      "\t\tGenerating model for individual 1\n",
      "\t\tGenerating model for individual 2\n",
      "\t\tGenerating model for individual 3\n",
      "\t\tGenerating model for individual 4\n",
      "Done > Takes 69.73271679878235 sec\n",
      "\tEvaluating Population: \n",
      "\t\tIndividual 0\n",
      "625/625 [==============================] - 2s 3ms/step - loss: 0.3021 - accuracy: 0.9049\n",
      "\t\tIndividual 1\n",
      "625/625 [==============================] - 2s 3ms/step - loss: 0.2625 - accuracy: 0.9366\n",
      "\t\tIndividual 2\n",
      "625/625 [==============================] - 2s 2ms/step - loss: 0.2625 - accuracy: 0.9366\n",
      "\t\tIndividual 3\n",
      "625/625 [==============================] - 2s 2ms/step - loss: 0.2688 - accuracy: 0.9324\n",
      "\t\tIndividual 4\n",
      "625/625 [==============================] - 2s 3ms/step - loss: 0.2922 - accuracy: 0.9215\n",
      "Done > Takes 8.444944143295288 sec\n",
      "[+] Generation 5 of 100\n",
      "\tTraining Models:\n",
      "\t\tGenerating model for individual 0\n",
      "\t\tGenerating model for individual 1\n",
      "\t\tGenerating model for individual 2\n",
      "\t\tGenerating model for individual 3\n",
      "\t\tGenerating model for individual 4\n",
      "Done > Takes 68.65926384925842 sec\n",
      "\tEvaluating Population: \n",
      "\t\tIndividual 0\n",
      "625/625 [==============================] - 2s 2ms/step - loss: 0.3046 - accuracy: 0.9173\n",
      "\t\tIndividual 1\n",
      "625/625 [==============================] - 2s 3ms/step - loss: 0.3046 - accuracy: 0.9173\n",
      "\t\tIndividual 2\n",
      "625/625 [==============================] - 2s 3ms/step - loss: 0.2863 - accuracy: 0.9218\n",
      "\t\tIndividual 3\n",
      "625/625 [==============================] - 2s 3ms/step - loss: 0.3006 - accuracy: 0.9183\n",
      "\t\tIndividual 4\n",
      "625/625 [==============================] - 2s 3ms/step - loss: 0.2469 - accuracy: 0.9360\n",
      "Done > Takes 8.527219295501709 sec\n",
      "[+] Generation 6 of 100\n",
      "\tTraining Models:\n",
      "\t\tGenerating model for individual 0\n",
      "\t\tGenerating model for individual 1\n",
      "\t\tGenerating model for individual 2\n"
     ]
    },
    {
     "ename": "KeyboardInterrupt",
     "evalue": "",
     "output_type": "error",
     "traceback": [
      "\u001b[0;31m---------------------------------------------------------------------------\u001b[0m",
      "\u001b[0;31mKeyboardInterrupt\u001b[0m                         Traceback (most recent call last)",
      "\u001b[0;32m<ipython-input-14-5f628fba2b0e>\u001b[0m in \u001b[0;36m<module>\u001b[0;34m\u001b[0m\n\u001b[1;32m     11\u001b[0m     \u001b[0;32mfor\u001b[0m \u001b[0mi\u001b[0m\u001b[0;34m,\u001b[0m\u001b[0mindividual\u001b[0m \u001b[0;32min\u001b[0m \u001b[0menumerate\u001b[0m\u001b[0;34m(\u001b[0m\u001b[0mpopulation\u001b[0m\u001b[0;34m)\u001b[0m\u001b[0;34m:\u001b[0m\u001b[0;34m\u001b[0m\u001b[0;34m\u001b[0m\u001b[0m\n\u001b[1;32m     12\u001b[0m         \u001b[0mprint\u001b[0m\u001b[0;34m(\u001b[0m\u001b[0;34mf\"\\t\\tGenerating model for individual {i}\"\u001b[0m\u001b[0;34m,\u001b[0m \u001b[0mend\u001b[0m\u001b[0;34m=\u001b[0m\u001b[0;34m'\\n'\u001b[0m\u001b[0;34m,\u001b[0m \u001b[0mflush\u001b[0m\u001b[0;34m=\u001b[0m\u001b[0;32mTrue\u001b[0m\u001b[0;34m)\u001b[0m\u001b[0;34m\u001b[0m\u001b[0;34m\u001b[0m\u001b[0m\n\u001b[0;32m---> 13\u001b[0;31m         \u001b[0mga\u001b[0m\u001b[0;34m.\u001b[0m\u001b[0mgenerate_model_from_chromosome\u001b[0m\u001b[0;34m(\u001b[0m\u001b[0mdata\u001b[0m\u001b[0;34m,\u001b[0m \u001b[0mindividual\u001b[0m\u001b[0;34m)\u001b[0m\u001b[0;34m\u001b[0m\u001b[0;34m\u001b[0m\u001b[0m\n\u001b[0m\u001b[1;32m     14\u001b[0m \u001b[0;34m\u001b[0m\u001b[0m\n\u001b[1;32m     15\u001b[0m     \u001b[0mtraining_stop\u001b[0m \u001b[0;34m=\u001b[0m \u001b[0mtime\u001b[0m\u001b[0;34m.\u001b[0m\u001b[0mtime\u001b[0m\u001b[0;34m(\u001b[0m\u001b[0;34m)\u001b[0m\u001b[0;34m\u001b[0m\u001b[0;34m\u001b[0m\u001b[0m\n",
      "\u001b[0;32m~/Repositories/gahyparopt/gahyperopt.py\u001b[0m in \u001b[0;36mgenerate_model_from_chromosome\u001b[0;34m(self, data, chromosome)\u001b[0m\n\u001b[1;32m    122\u001b[0m \u001b[0;34m\u001b[0m\u001b[0m\n\u001b[1;32m    123\u001b[0m         \u001b[0;31m# Fit Model with Data\u001b[0m\u001b[0;34m\u001b[0m\u001b[0;34m\u001b[0m\u001b[0;34m\u001b[0m\u001b[0m\n\u001b[0;32m--> 124\u001b[0;31m         m_model.fit(\n\u001b[0m\u001b[1;32m    125\u001b[0m             \u001b[0mx_train\u001b[0m\u001b[0;34m,\u001b[0m\u001b[0;34m\u001b[0m\u001b[0;34m\u001b[0m\u001b[0m\n\u001b[1;32m    126\u001b[0m             \u001b[0my_train\u001b[0m\u001b[0;34m,\u001b[0m\u001b[0;34m\u001b[0m\u001b[0;34m\u001b[0m\u001b[0m\n",
      "\u001b[0;32m~/.conda/envs/pydl-tf2.2/lib/python3.8/site-packages/tensorflow/python/keras/engine/training.py\u001b[0m in \u001b[0;36m_method_wrapper\u001b[0;34m(self, *args, **kwargs)\u001b[0m\n\u001b[1;32m     64\u001b[0m   \u001b[0;32mdef\u001b[0m \u001b[0m_method_wrapper\u001b[0m\u001b[0;34m(\u001b[0m\u001b[0mself\u001b[0m\u001b[0;34m,\u001b[0m \u001b[0;34m*\u001b[0m\u001b[0margs\u001b[0m\u001b[0;34m,\u001b[0m \u001b[0;34m**\u001b[0m\u001b[0mkwargs\u001b[0m\u001b[0;34m)\u001b[0m\u001b[0;34m:\u001b[0m\u001b[0;34m\u001b[0m\u001b[0;34m\u001b[0m\u001b[0m\n\u001b[1;32m     65\u001b[0m     \u001b[0;32mif\u001b[0m \u001b[0;32mnot\u001b[0m \u001b[0mself\u001b[0m\u001b[0;34m.\u001b[0m\u001b[0m_in_multi_worker_mode\u001b[0m\u001b[0;34m(\u001b[0m\u001b[0;34m)\u001b[0m\u001b[0;34m:\u001b[0m  \u001b[0;31m# pylint: disable=protected-access\u001b[0m\u001b[0;34m\u001b[0m\u001b[0;34m\u001b[0m\u001b[0m\n\u001b[0;32m---> 66\u001b[0;31m       \u001b[0;32mreturn\u001b[0m \u001b[0mmethod\u001b[0m\u001b[0;34m(\u001b[0m\u001b[0mself\u001b[0m\u001b[0;34m,\u001b[0m \u001b[0;34m*\u001b[0m\u001b[0margs\u001b[0m\u001b[0;34m,\u001b[0m \u001b[0;34m**\u001b[0m\u001b[0mkwargs\u001b[0m\u001b[0;34m)\u001b[0m\u001b[0;34m\u001b[0m\u001b[0;34m\u001b[0m\u001b[0m\n\u001b[0m\u001b[1;32m     67\u001b[0m \u001b[0;34m\u001b[0m\u001b[0m\n\u001b[1;32m     68\u001b[0m     \u001b[0;31m# Running inside `run_distribute_coordinator` already.\u001b[0m\u001b[0;34m\u001b[0m\u001b[0;34m\u001b[0m\u001b[0;34m\u001b[0m\u001b[0m\n",
      "\u001b[0;32m~/.conda/envs/pydl-tf2.2/lib/python3.8/site-packages/tensorflow/python/keras/engine/training.py\u001b[0m in \u001b[0;36mfit\u001b[0;34m(self, x, y, batch_size, epochs, verbose, callbacks, validation_split, validation_data, shuffle, class_weight, sample_weight, initial_epoch, steps_per_epoch, validation_steps, validation_batch_size, validation_freq, max_queue_size, workers, use_multiprocessing)\u001b[0m\n\u001b[1;32m    860\u001b[0m           val_x, val_y, val_sample_weight = (\n\u001b[1;32m    861\u001b[0m               data_adapter.unpack_x_y_sample_weight(validation_data))\n\u001b[0;32m--> 862\u001b[0;31m           val_logs = self.evaluate(\n\u001b[0m\u001b[1;32m    863\u001b[0m               \u001b[0mx\u001b[0m\u001b[0;34m=\u001b[0m\u001b[0mval_x\u001b[0m\u001b[0;34m,\u001b[0m\u001b[0;34m\u001b[0m\u001b[0;34m\u001b[0m\u001b[0m\n\u001b[1;32m    864\u001b[0m               \u001b[0my\u001b[0m\u001b[0;34m=\u001b[0m\u001b[0mval_y\u001b[0m\u001b[0;34m,\u001b[0m\u001b[0;34m\u001b[0m\u001b[0;34m\u001b[0m\u001b[0m\n",
      "\u001b[0;32m~/.conda/envs/pydl-tf2.2/lib/python3.8/site-packages/tensorflow/python/keras/engine/training.py\u001b[0m in \u001b[0;36m_method_wrapper\u001b[0;34m(self, *args, **kwargs)\u001b[0m\n\u001b[1;32m     64\u001b[0m   \u001b[0;32mdef\u001b[0m \u001b[0m_method_wrapper\u001b[0m\u001b[0;34m(\u001b[0m\u001b[0mself\u001b[0m\u001b[0;34m,\u001b[0m \u001b[0;34m*\u001b[0m\u001b[0margs\u001b[0m\u001b[0;34m,\u001b[0m \u001b[0;34m**\u001b[0m\u001b[0mkwargs\u001b[0m\u001b[0;34m)\u001b[0m\u001b[0;34m:\u001b[0m\u001b[0;34m\u001b[0m\u001b[0;34m\u001b[0m\u001b[0m\n\u001b[1;32m     65\u001b[0m     \u001b[0;32mif\u001b[0m \u001b[0;32mnot\u001b[0m \u001b[0mself\u001b[0m\u001b[0;34m.\u001b[0m\u001b[0m_in_multi_worker_mode\u001b[0m\u001b[0;34m(\u001b[0m\u001b[0;34m)\u001b[0m\u001b[0;34m:\u001b[0m  \u001b[0;31m# pylint: disable=protected-access\u001b[0m\u001b[0;34m\u001b[0m\u001b[0;34m\u001b[0m\u001b[0m\n\u001b[0;32m---> 66\u001b[0;31m       \u001b[0;32mreturn\u001b[0m \u001b[0mmethod\u001b[0m\u001b[0;34m(\u001b[0m\u001b[0mself\u001b[0m\u001b[0;34m,\u001b[0m \u001b[0;34m*\u001b[0m\u001b[0margs\u001b[0m\u001b[0;34m,\u001b[0m \u001b[0;34m**\u001b[0m\u001b[0mkwargs\u001b[0m\u001b[0;34m)\u001b[0m\u001b[0;34m\u001b[0m\u001b[0;34m\u001b[0m\u001b[0m\n\u001b[0m\u001b[1;32m     67\u001b[0m \u001b[0;34m\u001b[0m\u001b[0m\n\u001b[1;32m     68\u001b[0m     \u001b[0;31m# Running inside `run_distribute_coordinator` already.\u001b[0m\u001b[0;34m\u001b[0m\u001b[0;34m\u001b[0m\u001b[0;34m\u001b[0m\u001b[0m\n",
      "\u001b[0;32m~/.conda/envs/pydl-tf2.2/lib/python3.8/site-packages/tensorflow/python/keras/engine/training.py\u001b[0m in \u001b[0;36mevaluate\u001b[0;34m(self, x, y, batch_size, verbose, sample_weight, steps, callbacks, max_queue_size, workers, use_multiprocessing, return_dict)\u001b[0m\n\u001b[1;32m   1079\u001b[0m                 step_num=step):\n\u001b[1;32m   1080\u001b[0m               \u001b[0mcallbacks\u001b[0m\u001b[0;34m.\u001b[0m\u001b[0mon_test_batch_begin\u001b[0m\u001b[0;34m(\u001b[0m\u001b[0mstep\u001b[0m\u001b[0;34m)\u001b[0m\u001b[0;34m\u001b[0m\u001b[0;34m\u001b[0m\u001b[0m\n\u001b[0;32m-> 1081\u001b[0;31m               \u001b[0mtmp_logs\u001b[0m \u001b[0;34m=\u001b[0m \u001b[0mtest_function\u001b[0m\u001b[0;34m(\u001b[0m\u001b[0miterator\u001b[0m\u001b[0;34m)\u001b[0m\u001b[0;34m\u001b[0m\u001b[0;34m\u001b[0m\u001b[0m\n\u001b[0m\u001b[1;32m   1082\u001b[0m               \u001b[0;31m# Catch OutOfRangeError for Datasets of unknown size.\u001b[0m\u001b[0;34m\u001b[0m\u001b[0;34m\u001b[0m\u001b[0;34m\u001b[0m\u001b[0m\n\u001b[1;32m   1083\u001b[0m               \u001b[0;31m# This blocks until the batch has finished executing.\u001b[0m\u001b[0;34m\u001b[0m\u001b[0;34m\u001b[0m\u001b[0;34m\u001b[0m\u001b[0m\n",
      "\u001b[0;32m~/.conda/envs/pydl-tf2.2/lib/python3.8/site-packages/tensorflow/python/eager/def_function.py\u001b[0m in \u001b[0;36m__call__\u001b[0;34m(self, *args, **kwds)\u001b[0m\n\u001b[1;32m    578\u001b[0m         \u001b[0mxla_context\u001b[0m\u001b[0;34m.\u001b[0m\u001b[0mExit\u001b[0m\u001b[0;34m(\u001b[0m\u001b[0;34m)\u001b[0m\u001b[0;34m\u001b[0m\u001b[0;34m\u001b[0m\u001b[0m\n\u001b[1;32m    579\u001b[0m     \u001b[0;32melse\u001b[0m\u001b[0;34m:\u001b[0m\u001b[0;34m\u001b[0m\u001b[0;34m\u001b[0m\u001b[0m\n\u001b[0;32m--> 580\u001b[0;31m       \u001b[0mresult\u001b[0m \u001b[0;34m=\u001b[0m \u001b[0mself\u001b[0m\u001b[0;34m.\u001b[0m\u001b[0m_call\u001b[0m\u001b[0;34m(\u001b[0m\u001b[0;34m*\u001b[0m\u001b[0margs\u001b[0m\u001b[0;34m,\u001b[0m \u001b[0;34m**\u001b[0m\u001b[0mkwds\u001b[0m\u001b[0;34m)\u001b[0m\u001b[0;34m\u001b[0m\u001b[0;34m\u001b[0m\u001b[0m\n\u001b[0m\u001b[1;32m    581\u001b[0m \u001b[0;34m\u001b[0m\u001b[0m\n\u001b[1;32m    582\u001b[0m     \u001b[0;32mif\u001b[0m \u001b[0mtracing_count\u001b[0m \u001b[0;34m==\u001b[0m \u001b[0mself\u001b[0m\u001b[0;34m.\u001b[0m\u001b[0m_get_tracing_count\u001b[0m\u001b[0;34m(\u001b[0m\u001b[0;34m)\u001b[0m\u001b[0;34m:\u001b[0m\u001b[0;34m\u001b[0m\u001b[0;34m\u001b[0m\u001b[0m\n",
      "\u001b[0;32m~/.conda/envs/pydl-tf2.2/lib/python3.8/site-packages/tensorflow/python/eager/def_function.py\u001b[0m in \u001b[0;36m_call\u001b[0;34m(self, *args, **kwds)\u001b[0m\n\u001b[1;32m    616\u001b[0m       \u001b[0;31m# In this case we have not created variables on the first call. So we can\u001b[0m\u001b[0;34m\u001b[0m\u001b[0;34m\u001b[0m\u001b[0;34m\u001b[0m\u001b[0m\n\u001b[1;32m    617\u001b[0m       \u001b[0;31m# run the first trace but we should fail if variables are created.\u001b[0m\u001b[0;34m\u001b[0m\u001b[0;34m\u001b[0m\u001b[0;34m\u001b[0m\u001b[0m\n\u001b[0;32m--> 618\u001b[0;31m       \u001b[0mresults\u001b[0m \u001b[0;34m=\u001b[0m \u001b[0mself\u001b[0m\u001b[0;34m.\u001b[0m\u001b[0m_stateful_fn\u001b[0m\u001b[0;34m(\u001b[0m\u001b[0;34m*\u001b[0m\u001b[0margs\u001b[0m\u001b[0;34m,\u001b[0m \u001b[0;34m**\u001b[0m\u001b[0mkwds\u001b[0m\u001b[0;34m)\u001b[0m\u001b[0;34m\u001b[0m\u001b[0;34m\u001b[0m\u001b[0m\n\u001b[0m\u001b[1;32m    619\u001b[0m       \u001b[0;32mif\u001b[0m \u001b[0mself\u001b[0m\u001b[0;34m.\u001b[0m\u001b[0m_created_variables\u001b[0m\u001b[0;34m:\u001b[0m\u001b[0;34m\u001b[0m\u001b[0;34m\u001b[0m\u001b[0m\n\u001b[1;32m    620\u001b[0m         raise ValueError(\"Creating variables on a non-first call to a function\"\n",
      "\u001b[0;32m~/.conda/envs/pydl-tf2.2/lib/python3.8/site-packages/tensorflow/python/eager/function.py\u001b[0m in \u001b[0;36m__call__\u001b[0;34m(self, *args, **kwargs)\u001b[0m\n\u001b[1;32m   2418\u001b[0m     \u001b[0;32mwith\u001b[0m \u001b[0mself\u001b[0m\u001b[0;34m.\u001b[0m\u001b[0m_lock\u001b[0m\u001b[0;34m:\u001b[0m\u001b[0;34m\u001b[0m\u001b[0;34m\u001b[0m\u001b[0m\n\u001b[1;32m   2419\u001b[0m       \u001b[0mgraph_function\u001b[0m\u001b[0;34m,\u001b[0m \u001b[0margs\u001b[0m\u001b[0;34m,\u001b[0m \u001b[0mkwargs\u001b[0m \u001b[0;34m=\u001b[0m \u001b[0mself\u001b[0m\u001b[0;34m.\u001b[0m\u001b[0m_maybe_define_function\u001b[0m\u001b[0;34m(\u001b[0m\u001b[0margs\u001b[0m\u001b[0;34m,\u001b[0m \u001b[0mkwargs\u001b[0m\u001b[0;34m)\u001b[0m\u001b[0;34m\u001b[0m\u001b[0;34m\u001b[0m\u001b[0m\n\u001b[0;32m-> 2420\u001b[0;31m     \u001b[0;32mreturn\u001b[0m \u001b[0mgraph_function\u001b[0m\u001b[0;34m.\u001b[0m\u001b[0m_filtered_call\u001b[0m\u001b[0;34m(\u001b[0m\u001b[0margs\u001b[0m\u001b[0;34m,\u001b[0m \u001b[0mkwargs\u001b[0m\u001b[0;34m)\u001b[0m  \u001b[0;31m# pylint: disable=protected-access\u001b[0m\u001b[0;34m\u001b[0m\u001b[0;34m\u001b[0m\u001b[0m\n\u001b[0m\u001b[1;32m   2421\u001b[0m \u001b[0;34m\u001b[0m\u001b[0m\n\u001b[1;32m   2422\u001b[0m   \u001b[0;34m@\u001b[0m\u001b[0mproperty\u001b[0m\u001b[0;34m\u001b[0m\u001b[0;34m\u001b[0m\u001b[0m\n",
      "\u001b[0;32m~/.conda/envs/pydl-tf2.2/lib/python3.8/site-packages/tensorflow/python/eager/function.py\u001b[0m in \u001b[0;36m_filtered_call\u001b[0;34m(self, args, kwargs)\u001b[0m\n\u001b[1;32m   1659\u001b[0m       \u001b[0;31m`\u001b[0m\u001b[0margs\u001b[0m\u001b[0;31m`\u001b[0m \u001b[0;32mand\u001b[0m\u001b[0;31m \u001b[0m\u001b[0;31m`\u001b[0m\u001b[0mkwargs\u001b[0m\u001b[0;31m`\u001b[0m\u001b[0;34m.\u001b[0m\u001b[0;34m\u001b[0m\u001b[0;34m\u001b[0m\u001b[0m\n\u001b[1;32m   1660\u001b[0m     \"\"\"\n\u001b[0;32m-> 1661\u001b[0;31m     return self._call_flat(\n\u001b[0m\u001b[1;32m   1662\u001b[0m         (t for t in nest.flatten((args, kwargs), expand_composites=True)\n\u001b[1;32m   1663\u001b[0m          if isinstance(t, (ops.Tensor,\n",
      "\u001b[0;32m~/.conda/envs/pydl-tf2.2/lib/python3.8/site-packages/tensorflow/python/eager/function.py\u001b[0m in \u001b[0;36m_call_flat\u001b[0;34m(self, args, captured_inputs, cancellation_manager)\u001b[0m\n\u001b[1;32m   1743\u001b[0m         and executing_eagerly):\n\u001b[1;32m   1744\u001b[0m       \u001b[0;31m# No tape is watching; skip to running the function.\u001b[0m\u001b[0;34m\u001b[0m\u001b[0;34m\u001b[0m\u001b[0;34m\u001b[0m\u001b[0m\n\u001b[0;32m-> 1745\u001b[0;31m       return self._build_call_outputs(self._inference_function.call(\n\u001b[0m\u001b[1;32m   1746\u001b[0m           ctx, args, cancellation_manager=cancellation_manager))\n\u001b[1;32m   1747\u001b[0m     forward_backward = self._select_forward_and_backward_functions(\n",
      "\u001b[0;32m~/.conda/envs/pydl-tf2.2/lib/python3.8/site-packages/tensorflow/python/eager/function.py\u001b[0m in \u001b[0;36mcall\u001b[0;34m(self, ctx, args, cancellation_manager)\u001b[0m\n\u001b[1;32m    591\u001b[0m       \u001b[0;32mwith\u001b[0m \u001b[0m_InterpolateFunctionError\u001b[0m\u001b[0;34m(\u001b[0m\u001b[0mself\u001b[0m\u001b[0;34m)\u001b[0m\u001b[0;34m:\u001b[0m\u001b[0;34m\u001b[0m\u001b[0;34m\u001b[0m\u001b[0m\n\u001b[1;32m    592\u001b[0m         \u001b[0;32mif\u001b[0m \u001b[0mcancellation_manager\u001b[0m \u001b[0;32mis\u001b[0m \u001b[0;32mNone\u001b[0m\u001b[0;34m:\u001b[0m\u001b[0;34m\u001b[0m\u001b[0;34m\u001b[0m\u001b[0m\n\u001b[0;32m--> 593\u001b[0;31m           outputs = execute.execute(\n\u001b[0m\u001b[1;32m    594\u001b[0m               \u001b[0mstr\u001b[0m\u001b[0;34m(\u001b[0m\u001b[0mself\u001b[0m\u001b[0;34m.\u001b[0m\u001b[0msignature\u001b[0m\u001b[0;34m.\u001b[0m\u001b[0mname\u001b[0m\u001b[0;34m)\u001b[0m\u001b[0;34m,\u001b[0m\u001b[0;34m\u001b[0m\u001b[0;34m\u001b[0m\u001b[0m\n\u001b[1;32m    595\u001b[0m               \u001b[0mnum_outputs\u001b[0m\u001b[0;34m=\u001b[0m\u001b[0mself\u001b[0m\u001b[0;34m.\u001b[0m\u001b[0m_num_outputs\u001b[0m\u001b[0;34m,\u001b[0m\u001b[0;34m\u001b[0m\u001b[0;34m\u001b[0m\u001b[0m\n",
      "\u001b[0;32m~/.conda/envs/pydl-tf2.2/lib/python3.8/site-packages/tensorflow/python/eager/execute.py\u001b[0m in \u001b[0;36mquick_execute\u001b[0;34m(op_name, num_outputs, inputs, attrs, ctx, name)\u001b[0m\n\u001b[1;32m     57\u001b[0m   \u001b[0;32mtry\u001b[0m\u001b[0;34m:\u001b[0m\u001b[0;34m\u001b[0m\u001b[0;34m\u001b[0m\u001b[0m\n\u001b[1;32m     58\u001b[0m     \u001b[0mctx\u001b[0m\u001b[0;34m.\u001b[0m\u001b[0mensure_initialized\u001b[0m\u001b[0;34m(\u001b[0m\u001b[0;34m)\u001b[0m\u001b[0;34m\u001b[0m\u001b[0;34m\u001b[0m\u001b[0m\n\u001b[0;32m---> 59\u001b[0;31m     tensors = pywrap_tfe.TFE_Py_Execute(ctx._handle, device_name, op_name,\n\u001b[0m\u001b[1;32m     60\u001b[0m                                         inputs, attrs, num_outputs)\n\u001b[1;32m     61\u001b[0m   \u001b[0;32mexcept\u001b[0m \u001b[0mcore\u001b[0m\u001b[0;34m.\u001b[0m\u001b[0m_NotOkStatusException\u001b[0m \u001b[0;32mas\u001b[0m \u001b[0me\u001b[0m\u001b[0;34m:\u001b[0m\u001b[0;34m\u001b[0m\u001b[0;34m\u001b[0m\u001b[0m\n",
      "\u001b[0;31mKeyboardInterrupt\u001b[0m: "
     ]
    }
   ],
   "source": [
    "# Run Each Generation\n",
    "generation_performance = {}\n",
    "for current_generation in range(MAX_GENERATIONS):\n",
    "    print(f\"[+] Generation {current_generation+1} of {MAX_GENERATIONS}\")\n",
    "\n",
    "    # >>>>>> Training Phase <<<<<<\n",
    "    print(f\"\\tTraining Models:\", end='\\n', flush=True)\n",
    "    training_start = time.time()\n",
    "\n",
    "    # Train all Models in Population\n",
    "    for i,individual in enumerate(population):\n",
    "        print(f\"\\t\\tGenerating model for individual {i}\", end='\\n', flush=True)\n",
    "        ga.generate_model_from_chromosome(data, individual)\n",
    "\n",
    "    training_stop = time.time()\n",
    "    print(f\"Done > Takes {training_stop - training_start} sec\", end='\\n')\n",
    "\n",
    "    # >>>>>> Evaluation Phase <<<<<<\n",
    "    print(f\"\\tEvaluating Population: \", end='\\n', flush=True)\n",
    "    evaluation_start = time.time()\n",
    "\n",
    "    for i,individual in enumerate(population):\n",
    "        \n",
    "        print(f\"\\t\\tIndividual {i}\", end='\\n', flush=True)\n",
    "        \n",
    "        # Play the Games\n",
    "        loss, accuracy =  individual.ml_model.evaluate(x=data['x_val'], y=data['y_val']) \n",
    "        \n",
    "        # Update Chromosome Results\n",
    "        individual.loss = loss\n",
    "        individual.accuracy = accuracy\n",
    "        \n",
    "\n",
    "    evaluation_stop = time.time()\n",
    "    print(f\"Done > Takes {evaluation_stop - evaluation_start} sec\", end='\\n')\n",
    "\n",
    "    # Sort Candidates by Sum of Results\n",
    "    population.sort(key=lambda x: x.accuracy, reverse=True)\n",
    "\n",
    "    # Compute Generation Metrics\n",
    "    generation_performance[current_generation] = pd.DataFrame([{'loss':x.loss, 'accuracy': x.accuracy} for x in population ])\n",
    "    \n",
    "    generation_performance[current_generation].describe()\n",
    "\n",
    "    # >>>>>> Genetic Selection, Children Creation and Mutation <<<<<<\n",
    "    if current_generation < MAX_GENERATIONS-1:\n",
    "        population = ga.evolve_population(population)"
   ]
  },
  {
   "cell_type": "code",
   "execution_count": null,
   "metadata": {},
   "outputs": [],
   "source": []
  }
 ],
 "metadata": {
  "kernelspec": {
   "display_name": "pydl-tf2.2",
   "language": "python",
   "name": "pydl-tf2.2"
  },
  "language_info": {
   "codemirror_mode": {
    "name": "ipython",
    "version": 3
   },
   "file_extension": ".py",
   "mimetype": "text/x-python",
   "name": "python",
   "nbconvert_exporter": "python",
   "pygments_lexer": "ipython3",
   "version": "3.8.5"
  }
 },
 "nbformat": 4,
 "nbformat_minor": 4
}
